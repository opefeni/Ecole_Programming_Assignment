{
 "cells": [
  {
   "cell_type": "markdown",
   "id": "fb424c66",
   "metadata": {},
   "source": [
    "**Ecole du Technologie Supreme Programming Assignment**"
   ]
  },
  {
   "cell_type": "code",
   "execution_count": 11,
   "id": "984b9874",
   "metadata": {},
   "outputs": [],
   "source": [
    "# import the required library \n",
    "import requests\n",
    "import config\n",
    "import json\n",
    "from pandas.io.json import json_normalize\n",
    "import pandas as pd"
   ]
  },
  {
   "cell_type": "code",
   "execution_count": 16,
   "id": "9ff66187",
   "metadata": {},
   "outputs": [
    {
     "name": "stdout",
     "output_type": "stream",
     "text": [
      "<module 'config' from '/Users/gbeminiyiajayi/Desktop/Tutorial/Ecole Assignment/config.py'>\n"
     ]
    }
   ],
   "source": [
    "print(config.GITHUB_USERNAME)"
   ]
  },
  {
   "cell_type": "code",
   "execution_count": 12,
   "id": "d161c4c0",
   "metadata": {},
   "outputs": [
    {
     "ename": "AttributeError",
     "evalue": "module 'config' has no attribute 'GITHUB_USERNAME'",
     "output_type": "error",
     "traceback": [
      "\u001b[0;31m---------------------------------------------------------------------------\u001b[0m",
      "\u001b[0;31mAttributeError\u001b[0m                            Traceback (most recent call last)",
      "\u001b[0;32m<ipython-input-12-cf3873b0a876>\u001b[0m in \u001b[0;36m<module>\u001b[0;34m\u001b[0m\n\u001b[1;32m      1\u001b[0m \u001b[0missue_session\u001b[0m \u001b[0;34m=\u001b[0m \u001b[0mrequests\u001b[0m\u001b[0;34m.\u001b[0m\u001b[0mSession\u001b[0m\u001b[0;34m(\u001b[0m\u001b[0;34m)\u001b[0m\u001b[0;34m\u001b[0m\u001b[0;34m\u001b[0m\u001b[0m\n\u001b[0;32m----> 2\u001b[0;31m \u001b[0missue_session\u001b[0m\u001b[0;34m.\u001b[0m\u001b[0mauth\u001b[0m \u001b[0;34m=\u001b[0m \u001b[0;34m(\u001b[0m\u001b[0mconfig\u001b[0m\u001b[0;34m.\u001b[0m\u001b[0mGITHUB_USERNAME\u001b[0m\u001b[0;34m,\u001b[0m \u001b[0mconfig\u001b[0m\u001b[0;34m.\u001b[0m\u001b[0mGITHUB_TOKEN\u001b[0m\u001b[0;34m)\u001b[0m\u001b[0;34m\u001b[0m\u001b[0;34m\u001b[0m\u001b[0m\n\u001b[0m",
      "\u001b[0;31mAttributeError\u001b[0m: module 'config' has no attribute 'GITHUB_USERNAME'"
     ]
    }
   ],
   "source": [
    "issue_session = requests.Session()\n",
    "issue_session.auth = (config.GITHUB_USERNAME, config.GITHUB_TOKEN)"
   ]
  },
  {
   "cell_type": "code",
   "execution_count": null,
   "id": "af9e45b1",
   "metadata": {},
   "outputs": [],
   "source": [
    "# \n",
    "load_github_repo_issues(repo, owner, api):\n",
    "    # create empty placeholder for issues\n",
    "    issues = []\n",
    "    # since github paga pagination is defaulted to 30\n",
    "    # we loop through all the pages\n",
    "    next = True\n",
    "    pg_int = 1\n",
    "    while next == True:\n",
    "        # construct a query complete github rest api query \n",
    "        url = api + '/repos/{}/{}/issues?page={}&per_page=100'.format(owner, repo, pg_int)\n",
    "        issue_pg = issue_session.get(url = url)"
   ]
  }
 ],
 "metadata": {
  "kernelspec": {
   "display_name": "Python 3",
   "language": "python",
   "name": "python3"
  },
  "language_info": {
   "codemirror_mode": {
    "name": "ipython",
    "version": 3
   },
   "file_extension": ".py",
   "mimetype": "text/x-python",
   "name": "python",
   "nbconvert_exporter": "python",
   "pygments_lexer": "ipython3",
   "version": "3.8.8"
  }
 },
 "nbformat": 4,
 "nbformat_minor": 5
}
